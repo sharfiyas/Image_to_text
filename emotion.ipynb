{
 "cells": [
  {
   "cell_type": "code",
   "execution_count": 3,
   "metadata": {},
   "outputs": [],
   "source": [
    "import cv2\n",
    "from keras.models import Sequential\n",
    "from keras.layers import Conv2D, MaxPooling2D, Dense, Dropout, Flatten\n",
    "from tensorflow.keras.optimizers import Adam\n",
    "from tensorflow.keras.preprocessing.image import ImageDataGenerator\n",
    "from tensorflow.keras.models import Model"
   ]
  },
  {
   "cell_type": "code",
   "execution_count": 4,
   "metadata": {},
   "outputs": [],
   "source": [
    "train_datagen = ImageDataGenerator(rescale=1./255)\n",
    "val_datagen = ImageDataGenerator(rescale=1./255)"
   ]
  },
  {
   "cell_type": "code",
   "execution_count": 5,
   "metadata": {},
   "outputs": [
    {
     "name": "stdout",
     "output_type": "stream",
     "text": [
      "Found 20093 images belonging to 6 classes.\n",
      "Found 20093 images belonging to 6 classes.\n"
     ]
    }
   ],
   "source": [
    "train_generator = train_datagen.flow_from_directory('/home/user/Videos/emotion_live/Data/train',\n",
    "    target_size=(48,48),\n",
    "    batch_size=64,\n",
    "    color_mode='grayscale',\n",
    "    class_mode='categorical'\n",
    ")\n",
    "\n",
    "validation_generator = val_datagen.flow_from_directory('/home/user/Videos/emotion_live/Data/test',\n",
    "    target_size=(48,48),\n",
    "    batch_size=64,\n",
    "    color_mode='grayscale',\n",
    "    class_mode='categorical'\n",
    ")"
   ]
  },
  {
   "cell_type": "code",
   "execution_count": 6,
   "metadata": {},
   "outputs": [],
   "source": [
    "model = Sequential()\n",
    "\n",
    "model.add(Conv2D(32,(3,3),activation='relu',input_shape=(48,48,1)))\n",
    "model.add(Conv2D(64,(3,3),activation='relu'))\n",
    "model.add(MaxPooling2D(pool_size=(2,2)))\n",
    "model.add(Dropout(0.25))\n",
    "\n",
    "model.add(Conv2D(128,(3,3),activation='relu'))\n",
    "model.add(MaxPooling2D(pool_size=(2,2)))\n",
    "model.add(Conv2D(128,(3,3),activation='relu'))\n",
    "model.add(MaxPooling2D(pool_size=(2,2)))\n",
    "model.add(Dropout(0.25))\n",
    "\n",
    "model.add(Flatten())\n",
    "model.add(Dense(1024,activation='relu'))\n",
    "model.add(Dropout(0.5))\n",
    "model.add(Dense(6,activation='softmax'))"
   ]
  },
  {
   "cell_type": "code",
   "execution_count": 7,
   "metadata": {},
   "outputs": [
    {
     "name": "stdout",
     "output_type": "stream",
     "text": [
      "{'angry': 0, 'fear': 1, 'happy': 2, 'neutral': 3, 'sad': 4, 'surprise': 5}\n",
      "{'angry': 0, 'fear': 1, 'happy': 2, 'neutral': 3, 'sad': 4, 'surprise': 5}\n"
     ]
    }
   ],
   "source": [
    "print(train_generator.class_indices)\n",
    "print(validation_generator.class_indices)"
   ]
  },
  {
   "cell_type": "code",
   "execution_count": 8,
   "metadata": {},
   "outputs": [
    {
     "name": "stdout",
     "output_type": "stream",
     "text": [
      "Epoch 1/50\n"
     ]
    },
    {
     "name": "stderr",
     "output_type": "stream",
     "text": [
      "/tmp/ipykernel_4291/4261182902.py:5: UserWarning: `Model.fit_generator` is deprecated and will be removed in a future version. Please use `Model.fit`, which supports generators.\n",
      "  emotion_model = model.fit_generator(\n",
      "2024-07-19 21:26:39.137672: I tensorflow/core/common_runtime/executor.cc:1197] [/device:CPU:0] (DEBUG INFO) Executor start aborting (this does not indicate an error and you can ignore this message): INVALID_ARGUMENT: You must feed a value for placeholder tensor 'Placeholder/_0' with dtype int32\n",
      "\t [[{{node Placeholder/_0}}]]\n"
     ]
    },
    {
     "name": "stdout",
     "output_type": "stream",
     "text": [
      "313/313 [==============================] - ETA: 0s - loss: 1.7692 - accuracy: 0.2213"
     ]
    },
    {
     "name": "stderr",
     "output_type": "stream",
     "text": [
      "2024-07-19 21:29:22.409617: I tensorflow/core/common_runtime/executor.cc:1197] [/device:CPU:0] (DEBUG INFO) Executor start aborting (this does not indicate an error and you can ignore this message): INVALID_ARGUMENT: You must feed a value for placeholder tensor 'Placeholder/_0' with dtype int32\n",
      "\t [[{{node Placeholder/_0}}]]\n"
     ]
    },
    {
     "name": "stdout",
     "output_type": "stream",
     "text": [
      "313/313 [==============================] - 182s 577ms/step - loss: 1.7692 - accuracy: 0.2213 - val_loss: 1.6944 - val_accuracy: 0.3020\n",
      "Epoch 2/50\n",
      "313/313 [==============================] - 168s 538ms/step - loss: 1.6190 - accuracy: 0.3444 - val_loss: 1.5308 - val_accuracy: 0.3973\n",
      "Epoch 3/50\n",
      "313/313 [==============================] - 119s 381ms/step - loss: 1.5206 - accuracy: 0.3958 - val_loss: 1.4747 - val_accuracy: 0.4284\n",
      "Epoch 4/50\n",
      "313/313 [==============================] - 119s 382ms/step - loss: 1.4574 - accuracy: 0.4273 - val_loss: 1.3807 - val_accuracy: 0.4667\n",
      "Epoch 5/50\n",
      "313/313 [==============================] - 119s 382ms/step - loss: 1.4020 - accuracy: 0.4542 - val_loss: 1.3229 - val_accuracy: 0.4876\n",
      "Epoch 6/50\n",
      "313/313 [==============================] - 119s 382ms/step - loss: 1.3517 - accuracy: 0.4730 - val_loss: 1.2723 - val_accuracy: 0.5117\n",
      "Epoch 7/50\n",
      "313/313 [==============================] - 120s 382ms/step - loss: 1.3172 - accuracy: 0.4861 - val_loss: 1.2314 - val_accuracy: 0.5294\n",
      "Epoch 8/50\n",
      "313/313 [==============================] - 124s 395ms/step - loss: 1.2753 - accuracy: 0.5080 - val_loss: 1.1959 - val_accuracy: 0.5413\n",
      "Epoch 9/50\n",
      "313/313 [==============================] - 120s 382ms/step - loss: 1.2439 - accuracy: 0.5239 - val_loss: 1.1694 - val_accuracy: 0.5547\n",
      "Epoch 10/50\n",
      "313/313 [==============================] - 342s 1s/step - loss: 1.2169 - accuracy: 0.5331 - val_loss: 1.1331 - val_accuracy: 0.5725\n",
      "Epoch 11/50\n",
      "313/313 [==============================] - 170s 542ms/step - loss: 1.1861 - accuracy: 0.5453 - val_loss: 1.1023 - val_accuracy: 0.5806\n",
      "Epoch 12/50\n",
      "313/313 [==============================] - 131s 420ms/step - loss: 1.1629 - accuracy: 0.5572 - val_loss: 1.0778 - val_accuracy: 0.5994\n",
      "Epoch 13/50\n",
      "313/313 [==============================] - 120s 382ms/step - loss: 1.1382 - accuracy: 0.5674 - val_loss: 1.0474 - val_accuracy: 0.6086\n",
      "Epoch 14/50\n",
      "313/313 [==============================] - 119s 382ms/step - loss: 1.1153 - accuracy: 0.5782 - val_loss: 1.0113 - val_accuracy: 0.6251\n",
      "Epoch 15/50\n",
      "313/313 [==============================] - 119s 382ms/step - loss: 1.0913 - accuracy: 0.5869 - val_loss: 0.9892 - val_accuracy: 0.6410\n",
      "Epoch 16/50\n",
      "313/313 [==============================] - 119s 382ms/step - loss: 1.0716 - accuracy: 0.5960 - val_loss: 0.9694 - val_accuracy: 0.6458\n",
      "Epoch 17/50\n",
      "313/313 [==============================] - 124s 395ms/step - loss: 1.0530 - accuracy: 0.6009 - val_loss: 0.9375 - val_accuracy: 0.6676\n",
      "Epoch 18/50\n",
      "313/313 [==============================] - 120s 382ms/step - loss: 1.0298 - accuracy: 0.6143 - val_loss: 0.9013 - val_accuracy: 0.6738\n",
      "Epoch 19/50\n",
      "313/313 [==============================] - 151s 484ms/step - loss: 1.0033 - accuracy: 0.6254 - val_loss: 0.8940 - val_accuracy: 0.6735\n",
      "Epoch 20/50\n",
      "313/313 [==============================] - 171s 547ms/step - loss: 0.9843 - accuracy: 0.6278 - val_loss: 0.8685 - val_accuracy: 0.7031\n",
      "Epoch 21/50\n",
      "313/313 [==============================] - 136s 433ms/step - loss: 0.9631 - accuracy: 0.6413 - val_loss: 0.8262 - val_accuracy: 0.7094\n",
      "Epoch 22/50\n",
      "313/313 [==============================] - 189s 604ms/step - loss: 0.9448 - accuracy: 0.6456 - val_loss: 0.7953 - val_accuracy: 0.7240\n",
      "Epoch 23/50\n",
      "313/313 [==============================] - 179s 571ms/step - loss: 0.9136 - accuracy: 0.6601 - val_loss: 0.7641 - val_accuracy: 0.7390\n",
      "Epoch 24/50\n",
      "313/313 [==============================] - 194s 620ms/step - loss: 0.8980 - accuracy: 0.6692 - val_loss: 0.7372 - val_accuracy: 0.7509\n",
      "Epoch 25/50\n",
      "313/313 [==============================] - 178s 570ms/step - loss: 0.8737 - accuracy: 0.6762 - val_loss: 0.7088 - val_accuracy: 0.7657\n",
      "Epoch 26/50\n",
      "313/313 [==============================] - 139s 443ms/step - loss: 0.8552 - accuracy: 0.6840 - val_loss: 0.6748 - val_accuracy: 0.7868\n",
      "Epoch 27/50\n",
      "313/313 [==============================] - 139s 443ms/step - loss: 0.8258 - accuracy: 0.6952 - val_loss: 0.6470 - val_accuracy: 0.8004\n",
      "Epoch 28/50\n",
      "313/313 [==============================] - 139s 444ms/step - loss: 0.8062 - accuracy: 0.7033 - val_loss: 0.6329 - val_accuracy: 0.8060\n",
      "Epoch 29/50\n",
      "313/313 [==============================] - 139s 443ms/step - loss: 0.7823 - accuracy: 0.7129 - val_loss: 0.5866 - val_accuracy: 0.8240\n",
      "Epoch 30/50\n",
      "313/313 [==============================] - 139s 443ms/step - loss: 0.7583 - accuracy: 0.7222 - val_loss: 0.5608 - val_accuracy: 0.8340\n",
      "Epoch 31/50\n",
      "313/313 [==============================] - 139s 443ms/step - loss: 0.7364 - accuracy: 0.7317 - val_loss: 0.5330 - val_accuracy: 0.8469\n",
      "Epoch 32/50\n",
      "313/313 [==============================] - 139s 443ms/step - loss: 0.7122 - accuracy: 0.7377 - val_loss: 0.5077 - val_accuracy: 0.8552\n",
      "Epoch 33/50\n",
      "313/313 [==============================] - 166s 531ms/step - loss: 0.6892 - accuracy: 0.7469 - val_loss: 0.4697 - val_accuracy: 0.8655\n",
      "Epoch 34/50\n",
      "313/313 [==============================] - 201s 642ms/step - loss: 0.6663 - accuracy: 0.7578 - val_loss: 0.4484 - val_accuracy: 0.8750\n",
      "Epoch 35/50\n",
      "313/313 [==============================] - 152s 486ms/step - loss: 0.6518 - accuracy: 0.7643 - val_loss: 0.4157 - val_accuracy: 0.8910\n",
      "Epoch 36/50\n",
      "313/313 [==============================] - 139s 444ms/step - loss: 0.6351 - accuracy: 0.7686 - val_loss: 0.3997 - val_accuracy: 0.9027\n",
      "Epoch 37/50\n",
      "313/313 [==============================] - 177s 565ms/step - loss: 0.6148 - accuracy: 0.7770 - val_loss: 0.3731 - val_accuracy: 0.9082\n",
      "Epoch 38/50\n",
      "313/313 [==============================] - 200s 638ms/step - loss: 0.5841 - accuracy: 0.7858 - val_loss: 0.3426 - val_accuracy: 0.9220\n",
      "Epoch 39/50\n",
      "313/313 [==============================] - 139s 444ms/step - loss: 0.5709 - accuracy: 0.7901 - val_loss: 0.3235 - val_accuracy: 0.9254\n",
      "Epoch 40/50\n",
      "313/313 [==============================] - 139s 444ms/step - loss: 0.5490 - accuracy: 0.8013 - val_loss: 0.3084 - val_accuracy: 0.9300\n",
      "Epoch 41/50\n",
      "313/313 [==============================] - 139s 444ms/step - loss: 0.5336 - accuracy: 0.8073 - val_loss: 0.2869 - val_accuracy: 0.9402\n",
      "Epoch 42/50\n",
      "313/313 [==============================] - 168s 537ms/step - loss: 0.5146 - accuracy: 0.8123 - val_loss: 0.2613 - val_accuracy: 0.9427\n",
      "Epoch 43/50\n",
      "313/313 [==============================] - 200s 637ms/step - loss: 0.4951 - accuracy: 0.8220 - val_loss: 0.2550 - val_accuracy: 0.9464\n",
      "Epoch 44/50\n",
      "313/313 [==============================] - 147s 470ms/step - loss: 0.4785 - accuracy: 0.8246 - val_loss: 0.2348 - val_accuracy: 0.9540\n",
      "Epoch 45/50\n",
      "313/313 [==============================] - 140s 446ms/step - loss: 0.4664 - accuracy: 0.8337 - val_loss: 0.2123 - val_accuracy: 0.9549\n",
      "Epoch 46/50\n",
      "313/313 [==============================] - 239s 763ms/step - loss: 0.4449 - accuracy: 0.8404 - val_loss: 0.1969 - val_accuracy: 0.9647\n",
      "Epoch 47/50\n",
      "313/313 [==============================] - 222s 709ms/step - loss: 0.4339 - accuracy: 0.8436 - val_loss: 0.1835 - val_accuracy: 0.9669\n",
      "Epoch 48/50\n",
      "313/313 [==============================] - 232s 742ms/step - loss: 0.4239 - accuracy: 0.8471 - val_loss: 0.1770 - val_accuracy: 0.9698\n",
      "Epoch 49/50\n",
      "313/313 [==============================] - 201s 643ms/step - loss: 0.4069 - accuracy: 0.8525 - val_loss: 0.1632 - val_accuracy: 0.9747\n",
      "Epoch 50/50\n",
      "313/313 [==============================] - 196s 628ms/step - loss: 0.3944 - accuracy: 0.8582 - val_loss: 0.1497 - val_accuracy: 0.9808\n"
     ]
    }
   ],
   "source": [
    "# Compile the model\n",
    "model.compile(loss='categorical_crossentropy', optimizer=Adam(learning_rate=0.0001), metrics=['accuracy'])\n",
    "\n",
    "# Train the model with fit_generator\n",
    "emotion_model = model.fit_generator(\n",
    "    train_generator,\n",
    "    steps_per_epoch=train_generator.samples // 64,\n",
    "    epochs=50,\n",
    "    validation_data=validation_generator,\n",
    "    validation_steps=validation_generator.samples // 64\n",
    ")"
   ]
  },
  {
   "cell_type": "code",
   "execution_count": 9,
   "metadata": {},
   "outputs": [],
   "source": [
    "model.save('emotion_model.h5')"
   ]
  },
  {
   "cell_type": "code",
   "execution_count": 16,
   "metadata": {},
   "outputs": [
    {
     "name": "stdout",
     "output_type": "stream",
     "text": [
      "Defaulting to user installation because normal site-packages is not writeable\n",
      "Collecting seaborn\n",
      "  Downloading seaborn-0.13.2-py3-none-any.whl.metadata (5.4 kB)\n",
      "Requirement already satisfied: numpy!=1.24.0,>=1.20 in /home/user/.local/lib/python3.8/site-packages (from seaborn) (1.23.5)\n",
      "Requirement already satisfied: pandas>=1.2 in /home/user/.local/lib/python3.8/site-packages (from seaborn) (2.0.3)\n",
      "Requirement already satisfied: matplotlib!=3.6.1,>=3.4 in /home/user/.local/lib/python3.8/site-packages (from seaborn) (3.5.3)\n",
      "Requirement already satisfied: cycler>=0.10 in /home/user/.local/lib/python3.8/site-packages (from matplotlib!=3.6.1,>=3.4->seaborn) (0.12.1)\n",
      "Requirement already satisfied: fonttools>=4.22.0 in /home/user/.local/lib/python3.8/site-packages (from matplotlib!=3.6.1,>=3.4->seaborn) (4.53.0)\n",
      "Requirement already satisfied: kiwisolver>=1.0.1 in /home/user/.local/lib/python3.8/site-packages (from matplotlib!=3.6.1,>=3.4->seaborn) (1.4.5)\n",
      "Requirement already satisfied: packaging>=20.0 in /home/user/.local/lib/python3.8/site-packages (from matplotlib!=3.6.1,>=3.4->seaborn) (20.9)\n",
      "Requirement already satisfied: pillow>=6.2.0 in /home/user/.local/lib/python3.8/site-packages (from matplotlib!=3.6.1,>=3.4->seaborn) (10.2.0)\n",
      "Requirement already satisfied: pyparsing>=2.2.1 in /home/user/.local/lib/python3.8/site-packages (from matplotlib!=3.6.1,>=3.4->seaborn) (3.1.2)\n",
      "Requirement already satisfied: python-dateutil>=2.7 in /home/user/.local/lib/python3.8/site-packages (from matplotlib!=3.6.1,>=3.4->seaborn) (2.8.2)\n",
      "Requirement already satisfied: pytz>=2020.1 in /home/user/.local/lib/python3.8/site-packages (from pandas>=1.2->seaborn) (2022.7.1)\n",
      "Requirement already satisfied: tzdata>=2022.1 in /home/user/.local/lib/python3.8/site-packages (from pandas>=1.2->seaborn) (2023.3)\n",
      "Requirement already satisfied: six>=1.5 in /usr/lib/python3/dist-packages (from python-dateutil>=2.7->matplotlib!=3.6.1,>=3.4->seaborn) (1.14.0)\n",
      "Downloading seaborn-0.13.2-py3-none-any.whl (294 kB)\n",
      "\u001b[2K   \u001b[90m━━━━━━━━━━━━━━━━━━━━━━━━━━━━━━━━━━━━━━━\u001b[0m \u001b[32m294.9/294.9 kB\u001b[0m \u001b[31m304.4 kB/s\u001b[0m eta \u001b[36m0:00:00\u001b[0ma \u001b[36m0:00:01\u001b[0m\n",
      "\u001b[?25h\u001b[33mWARNING: Error parsing dependencies of distro-info: Invalid version: '0.23ubuntu1'\u001b[0m\u001b[33m\n",
      "\u001b[0m\u001b[33mWARNING: Error parsing dependencies of python-debian: Invalid version: '0.1.36ubuntu1'\u001b[0m\u001b[33m\n",
      "\u001b[0mInstalling collected packages: seaborn\n",
      "Successfully installed seaborn-0.13.2\n",
      "\n",
      "\u001b[1m[\u001b[0m\u001b[34;49mnotice\u001b[0m\u001b[1;39;49m]\u001b[0m\u001b[39;49m A new release of pip is available: \u001b[0m\u001b[31;49m24.1\u001b[0m\u001b[39;49m -> \u001b[0m\u001b[32;49m24.1.2\u001b[0m\n",
      "\u001b[1m[\u001b[0m\u001b[34;49mnotice\u001b[0m\u001b[1;39;49m]\u001b[0m\u001b[39;49m To update, run: \u001b[0m\u001b[32;49mpython3 -m pip install --upgrade pip\u001b[0m\n",
      "Note: you may need to restart the kernel to use updated packages.\n"
     ]
    }
   ],
   "source": [
    "%pip install seaborn"
   ]
  },
  {
   "cell_type": "code",
   "execution_count": 17,
   "metadata": {},
   "outputs": [],
   "source": [
    "from sklearn.metrics import confusion_matrix, accuracy_score, precision_score, recall_score, classification_report\n",
    "import numpy as np\n",
    "import matplotlib.pyplot as plt\n",
    "import seaborn as sns"
   ]
  },
  {
   "cell_type": "code",
   "execution_count": 20,
   "metadata": {},
   "outputs": [
    {
     "name": "stdout",
     "output_type": "stream",
     "text": [
      "  1/314 [..............................] - ETA: 47s"
     ]
    },
    {
     "name": "stderr",
     "output_type": "stream",
     "text": [
      "2024-07-22 11:17:23.565972: I tensorflow/core/common_runtime/executor.cc:1197] [/device:CPU:0] (DEBUG INFO) Executor start aborting (this does not indicate an error and you can ignore this message): INVALID_ARGUMENT: You must feed a value for placeholder tensor 'Placeholder/_0' with dtype int32\n",
      "\t [[{{node Placeholder/_0}}]]\n"
     ]
    },
    {
     "name": "stdout",
     "output_type": "stream",
     "text": [
      "314/314 [==============================] - 22s 70ms/step\n",
      "Confusion Matrix:\n",
      "[[496 507 631 513 532 512]\n",
      " [482 483 618 545 460 495]\n",
      " [639 582 806 704 643 647]\n",
      " [566 504 713 593 536 529]\n",
      " [517 490 647 525 490 517]\n",
      " [477 496 659 557 506 476]]\n",
      "Accuracy: 0.1664261185487483\n",
      "Precision: 0.1663212656010833\n",
      "Recall: 0.1664261185487483\n",
      "\n",
      "Classification Report:\n",
      "              precision    recall  f1-score   support\n",
      "\n",
      "       angry       0.16      0.16      0.16      3191\n",
      "        fear       0.16      0.16      0.16      3083\n",
      "       happy       0.20      0.20      0.20      4021\n",
      "     neutral       0.17      0.17      0.17      3441\n",
      "         sad       0.15      0.15      0.15      3186\n",
      "    surprise       0.15      0.15      0.15      3171\n",
      "\n",
      "    accuracy                           0.17     20093\n",
      "   macro avg       0.16      0.16      0.16     20093\n",
      "weighted avg       0.17      0.17      0.17     20093\n",
      "\n"
     ]
    },
    {
     "data": {
      "image/png": "[encoded data removed]",
      "text/plain": [
       "<Figure size 1000x800 with 2 Axes>"
      ]
     },
     "metadata": {},
     "output_type": "display_data"
    }
   ],
   "source": [
    "# Get the true labels and predicted labels\n",
    "y_true = validation_generator.classes\n",
    "y_pred = model.predict(validation_generator)\n",
    "y_pred_classes = np.argmax(y_pred, axis=1)\n",
    "\n",
    "# Compute confusion matrix\n",
    "conf_matrix = confusion_matrix(y_true, y_pred_classes)\n",
    "\n",
    "# Compute accuracy, precision, recall\n",
    "accuracy = accuracy_score(y_true, y_pred_classes)\n",
    "precision = precision_score(y_true, y_pred_classes, average='weighted')\n",
    "recall = recall_score(y_true, y_pred_classes, average='weighted')\n",
    "classification_rep = classification_report(y_true, y_pred_classes, target_names=validation_generator.class_indices.keys())\n",
    "\n",
    "print(\"Confusion Matrix:\")\n",
    "print(conf_matrix)\n",
    "print(f\"Accuracy: {accuracy}\")\n",
    "print(f\"Precision: {precision}\")\n",
    "print(f\"Recall: {recall}\")\n",
    "print(\"\\nClassification Report:\")\n",
    "print(classification_rep)\n",
    "\n",
    "# Plot confusion matrix\n",
    "plt.figure(figsize=(10, 8))\n",
    "sns.heatmap(conf_matrix, annot=True, fmt='d', cmap='Blues', xticklabels=validation_generator.class_indices.keys(), yticklabels=validation_generator.class_indices.keys())\n",
    "plt.ylabel('Actual')\n",
    "plt.xlabel('Predicted')\n",
    "plt.title('Confusion Matrix')\n",
    "plt.show()\n"
   ]
  },
  {
   "cell_type": "code",
   "execution_count": 21,
   "metadata": {},
   "outputs": [
    {
     "name": "stdout",
     "output_type": "stream",
     "text": [
      "Model: \"sequential_2\"\n",
      "_________________________________________________________________\n",
      " Layer (type)                Output Shape              Param #   \n",
      "=================================================================\n",
      " conv2d_8 (Conv2D)           (None, 46, 46, 32)        320       \n",
      "                                                                 \n",
      " conv2d_9 (Conv2D)           (None, 44, 44, 64)        18496     \n",
      "                                                                 \n",
      " max_pooling2d_6 (MaxPooling  (None, 22, 22, 64)       0         \n",
      " 2D)                                                             \n",
      "                                                                 \n",
      " dropout_6 (Dropout)         (None, 22, 22, 64)        0         \n",
      "                                                                 \n",
      " conv2d_10 (Conv2D)          (None, 20, 20, 128)       73856     \n",
      "                                                                 \n",
      " max_pooling2d_7 (MaxPooling  (None, 10, 10, 128)      0         \n",
      " 2D)                                                             \n",
      "                                                                 \n",
      " conv2d_11 (Conv2D)          (None, 8, 8, 128)         147584    \n",
      "                                                                 \n",
      " max_pooling2d_8 (MaxPooling  (None, 4, 4, 128)        0         \n",
      " 2D)                                                             \n",
      "                                                                 \n",
      " dropout_7 (Dropout)         (None, 4, 4, 128)         0         \n",
      "                                                                 \n",
      " flatten_2 (Flatten)         (None, 2048)              0         \n",
      "                                                                 \n",
      " dense_4 (Dense)             (None, 1024)              2098176   \n",
      "                                                                 \n",
      " dropout_8 (Dropout)         (None, 1024)              0         \n",
      "                                                                 \n",
      " dense_5 (Dense)             (None, 6)                 6150      \n",
      "                                                                 \n",
      "=================================================================\n",
      "Total params: 2,344,582\n",
      "Trainable params: 2,344,582\n",
      "Non-trainable params: 0\n",
      "_________________________________________________________________\n"
     ]
    }
   ],
   "source": [
    "model.summary()"
   ]
  }
 ],
 "metadata": {
  "kernelspec": {
   "display_name": "Python 3 (ipykernel)",
   "language": "python",
   "name": "python3"
  },
  "language_info": {
   "codemirror_mode": {
    "name": "ipython",
    "version": 3
   },
   "file_extension": ".py",
   "mimetype": "text/x-python",
   "name": "python",
   "nbconvert_exporter": "python",
   "pygments_lexer": "ipython3",
   "version": "3.8.10"
  }
 },
 "nbformat": 4,
 "nbformat_minor": 4
}
